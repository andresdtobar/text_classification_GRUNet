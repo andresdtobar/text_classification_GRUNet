{
 "cells": [
  {
   "cell_type": "code",
   "execution_count": 1,
   "metadata": {},
   "outputs": [],
   "source": [
    "from sklearn.model_selection import RepeatedKFold\n",
    "from sklearn.model_selection import cross_val_score\n",
    "from sklearn.model_selection import train_test_split\n",
    "import keras\n",
    "import pyodbc\n",
    "import numpy as np\n",
    "import pandas as pd\n",
    "from collections import Counter\n",
    "from utils import *"
   ]
  },
  {
   "cell_type": "code",
   "execution_count": 2,
   "metadata": {},
   "outputs": [],
   "source": [
    "# grunet_model = keras.models.load_model('models/bigru_model_v3.h5')"
   ]
  },
  {
   "cell_type": "code",
   "execution_count": 10,
   "metadata": {},
   "outputs": [
    {
     "data": {
      "text/plain": [
       "Counter({1: 5047, 0: 1034})"
      ]
     },
     "execution_count": 10,
     "metadata": {},
     "output_type": "execute_result"
    }
   ],
   "source": [
    "# connection parameters\n",
    "server = '52.224.6.206' \n",
    "database = 'Previsora_SECOP' \n",
    "username = 'admin_usersql' \n",
    "password = 'admin_usersql'\n",
    "\n",
    "cnxn = pyodbc.connect('DRIVER={ODBC Driver 17 for SQL Server};SERVER='+server+';DATABASE='+database+';UID='+username+';PWD='+ password)\n",
    "#cursor = cnxn.cursor()\n",
    "\n",
    "#Sample select query\n",
    "query = \"SELECT * FROM dbo.EntrenamientoSECOP\"\n",
    "df = pd.read_sql(query,cnxn)\n",
    "\n",
    "# Erase rows with null values\n",
    "df = df.loc[~df['ObjetoProceso'].isnull()]\n",
    "\n",
    "# Erase rows where text length is less than 20\n",
    "df = df.loc[df['ObjetoProceso'].apply(len) > 20]\n",
    "\n",
    "# Separate label column and make lower case all text\n",
    "text = df['ObjetoProceso']\n",
    "#text = np.array([desc.lower() for desc in text])\n",
    "\n",
    "# Spell checker and in-context correction\n",
    "text_all_corrected = correct_words(text)\n",
    "print(len(text_all_corrected))\n",
    "\n",
    "y = df['Clasificacion'].astype(int).values\n",
    "Counter(y)"
   ]
  },
  {
   "cell_type": "code",
   "execution_count": 3,
   "metadata": {},
   "outputs": [],
   "source": [
    "n_classes = 2\n",
    "maxLen = max([len(text.split(' ')) for text in text_all_corrected])\n",
    "embedding_dim = 300\n",
    "\n",
    "tokens = {word for sentence in text_all_corrected for word in sentence.split(' ')} - {''}\n",
    "vocab = sorted(list(tokens))\n",
    "num_tokens = len(vocab)\n",
    "embedding_matrix = np.zeros((num_tokens, embedding_dim))\n",
    "for i, word in enumerate(vocab):\n",
    "    embedding_matrix[i] = nlp(word).vector"
   ]
  },
  {
   "cell_type": "code",
   "execution_count": 4,
   "metadata": {},
   "outputs": [],
   "source": [
    "X_inds = sentences_to_indices(text_all_corrected, vocab, maxLen)\n",
    "del text, text_all_corrected, df"
   ]
  },
  {
   "cell_type": "code",
   "execution_count": null,
   "metadata": {},
   "outputs": [],
   "source": [
    "from sklearn.model_selection import StratifiedKFold\n",
    "from sklearn.metrics import balanced_accuracy_score, accuracy_score, f1_score, confusion_matrix\n",
    "\n",
    "def train_and_evaluate_keras_model(model, data_train, labels_train, data_test):    \n",
    "    metrics = [\n",
    "        'accuracy', 'Recall', 'Precision',\n",
    "        keras.metrics.AUC(name='auc'),\n",
    "        keras.metrics.AUC(name='prc', curve='PR')\n",
    "        ]\n",
    "    model.compile(loss='binary_crossentropy', optimizer='adam', metrics=metrics)\n",
    "    classes = dict(Counter(labels_train))\n",
    "    total = len(labels_train)\n",
    "    pos = classes[1]\n",
    "    neg = classes[0]\n",
    "    weight_for_0 = (1 / neg) * (total / 2.0)\n",
    "    weight_for_1 = (1 / pos) * (total / 2.0)\n",
    "    class_weight = {0: weight_for_0, 1: weight_for_1}\n",
    "\n",
    "    #Train model\n",
    "    early_stop = keras.callbacks.EarlyStopping(\n",
    "        monitor='val_recall', \n",
    "        patience=5,\n",
    "        mode='max',\n",
    "        restore_best_weights=True\n",
    "        )\n",
    "    X_train, X_val, y_train, y_val = train_test_split(data_train, labels_train, test_size=.1, random_state=42)\n",
    "    model.fit(X_train, y_train, batch_size=128, epochs=100, validation_data = (X_val, y_val), \n",
    "    callbacks = [early_stop], class_weight=class_weight)    \n",
    "    return (model.predict(data_test) > .5).astype(int)\n",
    "\n",
    "n_folds = 5\n",
    "skf = StratifiedKFold(n_splits=n_folds, shuffle=True)\n",
    "  \n",
    "acc_list = []\n",
    "bacc_list = []\n",
    "f1_list = []\n",
    "cf_matrices = []\n",
    "\n",
    "for i, (train, test) in enumerate(skf.split(X_inds, y)):\n",
    "    print(\"Running Fold\", i+1, \"/\", n_folds)\n",
    "    model = TextClassification(maxLen, embedding_matrix, n_classes, num_tokens, embedding_dim)\n",
    "    X_train = X_inds[train,:]\n",
    "    X_test = X_inds[test,:]\n",
    "    y_train = y[train]\n",
    "    h_test = train_and_evaluate_keras_model(model, X_train, y_train, X_test)\n",
    "    del X_train, X_test, y_train\n",
    "    y_test = y[test]\n",
    "    cnf_matrix = confusion_matrix(h_test, y_test)\n",
    "    acc = accuracy_score(h_test, y_test)\n",
    "    bacc = balanced_accuracy_score(h_test, y_test)\n",
    "    f1score = f1_score(h_test, y_test, average='micro')\n",
    "    cf_matrices.append(cnf_matrix)\n",
    "    acc_list.append(acc)\n",
    "    bacc_list.append(bacc)\n",
    "    f1_list.append(f1score)"
   ]
  },
  {
   "cell_type": "code",
   "execution_count": 20,
   "metadata": {},
   "outputs": [
    {
     "name": "stdout",
     "output_type": "stream",
     "text": [
      "Cross validation accuracy GRU net: 0.988 (0.003)\n",
      "Cross validation balanced accuracy GRU net: 0.980 (0.006)\n",
      "Cross validation f1-score GRU net: 0.988 (0.003)\n"
     ]
    },
    {
     "data": {
      "image/png": "[encoded data removed]",
      "text/plain": [
       "<Figure size 360x360 with 1 Axes>"
      ]
     },
     "metadata": {
      "needs_background": "light"
     },
     "output_type": "display_data"
    }
   ],
   "source": [
    "print('Cross validation accuracy GRU net: %.3f (%.3f)' % (np.mean(acc_list), np.std(acc_list)))\n",
    "print('Cross validation balanced accuracy GRU net: %.3f (%.3f)' % (np.mean(bacc_list), np.std(bacc_list)))\n",
    "print('Cross validation f1-score GRU net: %.3f (%.3f)' % (np.mean(f1_list), np.std(f1_list)))\n",
    "class_names = np.array(['Rejected', 'Acepted'])\n",
    "cfm_avg = np.mean(cf_matrices, axis=0)\n",
    "plot_confusion_matrix(cfm_avg, classes=class_names, title='Matriz de confusion')"
   ]
  },
  {
   "cell_type": "code",
   "execution_count": 8,
   "metadata": {},
   "outputs": [],
   "source": [
    "model.save('models/bigru_model_v3_1.h5')"
   ]
  },
  {
   "cell_type": "code",
   "execution_count": null,
   "metadata": {},
   "outputs": [],
   "source": []
  }
 ],
 "metadata": {
  "interpreter": {
   "hash": "37e2c4018c06767984f156fe3aab2bd55d59852ecc191ca3eebe481ad498e0d1"
  },
  "kernelspec": {
   "display_name": "Python 3.9.7 64-bit ('deepl': conda)",
   "language": "python",
   "name": "python3"
  },
  "language_info": {
   "codemirror_mode": {
    "name": "ipython",
    "version": 3
   },
   "file_extension": ".py",
   "mimetype": "text/x-python",
   "name": "python",
   "nbconvert_exporter": "python",
   "pygments_lexer": "ipython3",
   "version": "3.9.7"
  },
  "orig_nbformat": 4
 },
 "nbformat": 4,
 "nbformat_minor": 2
}
