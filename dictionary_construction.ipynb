{
 "cells": [
  {
   "cell_type": "markdown",
   "metadata": {},
   "source": [
    "# Load libraries"
   ]
  },
  {
   "cell_type": "code",
   "execution_count": 2,
   "metadata": {},
   "outputs": [
    {
     "data": {
      "text/plain": [
       "['tok2vec', 'morphologizer', 'parser', 'attribute_ruler', 'lemmatizer', 'ner']"
      ]
     },
     "execution_count": 2,
     "metadata": {},
     "output_type": "execute_result"
    }
   ],
   "source": [
    "import pandas as pd\n",
    "import numpy as np\n",
    "import spacy\n",
    "from collections import Counter\n",
    "import json\n",
    "import pyodbc \n",
    "import re\n",
    "from spellchecker import SpellChecker\n",
    "import hunspell\n",
    "import wordninja\n",
    "from utils import clean_text\n",
    "\n",
    "hyperparams = False\n",
    "\n",
    "#!python -m spacy download es_core_news_md\n",
    "nlp = spacy.load('es_core_news_md')\n",
    "nlp.pipe_names"
   ]
  },
  {
   "cell_type": "markdown",
   "metadata": {},
   "source": [
    "## Data cleaning"
   ]
  },
  {
   "cell_type": "code",
   "execution_count": 2,
   "metadata": {},
   "outputs": [
    {
     "data": {
      "text/plain": [
       "6081"
      ]
     },
     "execution_count": 2,
     "metadata": {},
     "output_type": "execute_result"
    }
   ],
   "source": [
    "# connection parameters\n",
    "server = '52.224.6.206' \n",
    "database = 'Previsora_SECOP' \n",
    "username = 'admin_usersql' \n",
    "password = 'admin_usersql'\n",
    "\n",
    "cnxn = pyodbc.connect('DRIVER={ODBC Driver 17 for SQL Server};SERVER='+server+';DATABASE='+database+';UID='+username+';PWD='+ password)\n",
    "#cursor = cnxn.cursor()\n",
    "\n",
    "#Sample select query\n",
    "query = \"SELECT * FROM dbo.EntrenamientoSECOP\"\n",
    "df = pd.read_sql(query,cnxn)\n",
    "\n",
    "# Erase rows with null values\n",
    "df = df.loc[~df['ObjetoProceso'].isnull()]\n",
    "\n",
    "# Erase rows where text length is less than 20\n",
    "df = df.loc[df['ObjetoProceso'].apply(len) > 20]\n",
    "\n",
    "# Separate label column and make lower case all text\n",
    "text = df['ObjetoProceso']\n",
    "#text = np.array([desc.lower() for desc in text])\n",
    "len(text)"
   ]
  },
  {
   "cell_type": "code",
   "execution_count": null,
   "metadata": {},
   "outputs": [],
   "source": [
    "# df1 = pd.read_excel('data/Revision_de_Datos_SECOP_I_y_II_Clean.xlsx', 'SECOP I')\n",
    "# df1 = df1.loc[~df1['Detalle del Objeto a Contratar'].isnull()]\n",
    "\n",
    "# df2 = pd.read_excel('data/Revision_de_Datos_SECOP_I_y_II_Clean.xlsx', 'SECOP II')\n",
    "# df2 = df2.loc[~df2['Detalle del Objeto a Contratar'].isnull()]\n",
    "\n",
    "# df = df1.append(df2, ignore_index=True)\n",
    "# df = df.loc[df['Detalle del Objeto a Contratar'].apply(len) > 20] # Definir con el negocio este umbral\n",
    "# df.info()"
   ]
  },
  {
   "cell_type": "code",
   "execution_count": 7,
   "metadata": {},
   "outputs": [
    {
     "data": {
      "text/html": [
       "<div>\n",
       "<style scoped>\n",
       "    .dataframe tbody tr th:only-of-type {\n",
       "        vertical-align: middle;\n",
       "    }\n",
       "\n",
       "    .dataframe tbody tr th {\n",
       "        vertical-align: top;\n",
       "    }\n",
       "\n",
       "    .dataframe thead th {\n",
       "        text-align: right;\n",
       "    }\n",
       "</style>\n",
       "<table border=\"1\" class=\"dataframe\">\n",
       "  <thead>\n",
       "    <tr style=\"text-align: right;\">\n",
       "      <th></th>\n",
       "      <th>Detalle del Objeto a Contratar</th>\n",
       "      <th>Calificación</th>\n",
       "      <th>text length</th>\n",
       "    </tr>\n",
       "  </thead>\n",
       "  <tbody>\n",
       "    <tr>\n",
       "      <th>2071</th>\n",
       "      <td>renovacion de polizas</td>\n",
       "      <td>1</td>\n",
       "      <td>21</td>\n",
       "    </tr>\n",
       "    <tr>\n",
       "      <th>1724</th>\n",
       "      <td>ADQUISICION DE POLIZA</td>\n",
       "      <td>1</td>\n",
       "      <td>21</td>\n",
       "    </tr>\n",
       "    <tr>\n",
       "      <th>587</th>\n",
       "      <td>ADQUISICION DE POLIZA</td>\n",
       "      <td>1</td>\n",
       "      <td>21</td>\n",
       "    </tr>\n",
       "    <tr>\n",
       "      <th>278</th>\n",
       "      <td>PAGO POLIZAS DE MANEJO</td>\n",
       "      <td>1</td>\n",
       "      <td>22</td>\n",
       "    </tr>\n",
       "    <tr>\n",
       "      <th>2363</th>\n",
       "      <td>Adquisición Póliza IRF</td>\n",
       "      <td>1</td>\n",
       "      <td>22</td>\n",
       "    </tr>\n",
       "    <tr>\n",
       "      <th>...</th>\n",
       "      <td>...</td>\n",
       "      <td>...</td>\n",
       "      <td>...</td>\n",
       "    </tr>\n",
       "    <tr>\n",
       "      <th>1409</th>\n",
       "      <td>LA UNIVERSIDAD NACIONAL ABIERTA Y A DISTANCIA ...</td>\n",
       "      <td>1</td>\n",
       "      <td>982</td>\n",
       "    </tr>\n",
       "    <tr>\n",
       "      <th>2022</th>\n",
       "      <td>EL PRESENTE CONTRATO TIENE COMO OBJETO QUE EL ...</td>\n",
       "      <td>1</td>\n",
       "      <td>987</td>\n",
       "    </tr>\n",
       "    <tr>\n",
       "      <th>2021</th>\n",
       "      <td>EL PRESENTE CONTRATO TIENE COMO OBJETO QUE EL ...</td>\n",
       "      <td>1</td>\n",
       "      <td>987</td>\n",
       "    </tr>\n",
       "    <tr>\n",
       "      <th>2023</th>\n",
       "      <td>EL PRESENTE CONTRATO TIENE COMO OBJETO QUE EL ...</td>\n",
       "      <td>1</td>\n",
       "      <td>987</td>\n",
       "    </tr>\n",
       "    <tr>\n",
       "      <th>2855</th>\n",
       "      <td>LA EMPRESA SOCIAL DEL ESTADO HOSPITAL SAGRADO ...</td>\n",
       "      <td>0</td>\n",
       "      <td>987</td>\n",
       "    </tr>\n",
       "  </tbody>\n",
       "</table>\n",
       "<p>6081 rows × 3 columns</p>\n",
       "</div>"
      ],
      "text/plain": [
       "                         Detalle del Objeto a Contratar  Calificación  \\\n",
       "2071                              renovacion de polizas             1   \n",
       "1724                              ADQUISICION DE POLIZA             1   \n",
       "587                               ADQUISICION DE POLIZA             1   \n",
       "278                              PAGO POLIZAS DE MANEJO             1   \n",
       "2363                             Adquisición Póliza IRF             1   \n",
       "...                                                 ...           ...   \n",
       "1409  LA UNIVERSIDAD NACIONAL ABIERTA Y A DISTANCIA ...             1   \n",
       "2022  EL PRESENTE CONTRATO TIENE COMO OBJETO QUE EL ...             1   \n",
       "2021  EL PRESENTE CONTRATO TIENE COMO OBJETO QUE EL ...             1   \n",
       "2023  EL PRESENTE CONTRATO TIENE COMO OBJETO QUE EL ...             1   \n",
       "2855  LA EMPRESA SOCIAL DEL ESTADO HOSPITAL SAGRADO ...             0   \n",
       "\n",
       "      text length  \n",
       "2071           21  \n",
       "1724           21  \n",
       "587            21  \n",
       "278            22  \n",
       "2363           22  \n",
       "...           ...  \n",
       "1409          982  \n",
       "2022          987  \n",
       "2021          987  \n",
       "2023          987  \n",
       "2855          987  \n",
       "\n",
       "[6081 rows x 3 columns]"
      ]
     },
     "execution_count": 7,
     "metadata": {},
     "output_type": "execute_result"
    }
   ],
   "source": [
    "# df['text length'] = df['Detalle del Objeto a Contratar'].apply(len)\n",
    "# df.sort_values('text length')"
   ]
  },
  {
   "cell_type": "markdown",
   "metadata": {},
   "source": [
    "# Misspelled words correction"
   ]
  },
  {
   "cell_type": "markdown",
   "metadata": {},
   "source": [
    "## -Custom dictionary construction"
   ]
  },
  {
   "cell_type": "code",
   "execution_count": 5,
   "metadata": {},
   "outputs": [
    {
     "data": {
      "text/plain": [
       "'institución'"
      ]
     },
     "execution_count": 5,
     "metadata": {},
     "output_type": "execute_result"
    }
   ],
   "source": [
    "spell = SpellChecker(language='es')\n",
    "spell.known(['adquisicion', 'renovacion', 'institucion'])\n",
    "spell.correction('institucion')"
   ]
  },
  {
   "cell_type": "code",
   "execution_count": 6,
   "metadata": {},
   "outputs": [
    {
     "data": {
      "text/plain": [
       "True"
      ]
     },
     "execution_count": 6,
     "metadata": {},
     "output_type": "execute_result"
    }
   ],
   "source": [
    "spanish_dict = hunspell.HunSpell('dict/es_CO.dic', 'dict/es_CO.aff')\n",
    "spanish_dict.spell('institución')"
   ]
  },
  {
   "cell_type": "code",
   "execution_count": 8,
   "metadata": {},
   "outputs": [
    {
     "data": {
      "text/plain": [
       "6081"
      ]
     },
     "execution_count": 8,
     "metadata": {},
     "output_type": "execute_result"
    }
   ],
   "source": [
    "spell = SpellChecker(language='es')\n",
    "spanish_dict = hunspell.HunSpell('dict/es_CO.dic', 'dict/es_CO.aff')\n",
    "\n",
    "# Add Colombian municipalities\n",
    "municipios = np.loadtxt('dict/municipios_colombia.csv', dtype=str).tolist()\n",
    "for municipio in municipios:\n",
    "    spanish_dict.add(municipio)\n",
    "\n",
    "# Add Colombian departments\n",
    "departments = ['amazonas', 'antioquia', 'arauca', 'atlantico', 'bogotá', 'bolívar', 'boyacá', 'caldas', 'caquetá', 'casanare',\n",
    "            'cauca', 'cesar', 'chocó', 'córdoba', 'cundinamarca', 'guainía', 'guaviare', 'huila', 'guajira', 'magdalena', \n",
    "            'meta', 'nariño', 'putumayo', 'quindío', 'risaralda', 'providencia', \n",
    "            'santander', 'sucre', 'tolima', 'valle', 'vaupés', 'vichada']\n",
    "for departmet in departments:\n",
    "    spanish_dict.add(departmet) \n",
    "\n",
    "corregimientos = ['usaquen', 'chapinero', 'fusagasugá', 'tunjuelito', 'engativá', 'teusaquillo', 'usme', 'carlosama']\n",
    "for corregimiento in corregimientos:\n",
    "    spanish_dict.add(corregimiento) \n",
    "\n",
    "# Add context words (improove with lemmalization)\n",
    "context_words = ['soat', 'extracontractual', 'interadministrativo', 'multirriesgo', 'contraloría', 'interadministrativos',\n",
    "                'comodato', 'pyme', 'presupuestal', 'volqueta', 'invias', 'ltda', 'multirriesgos', 'extrapatrimoniales',\n",
    "                'transmilenio', 'arl', 'inpec', 'volquetas', 'buseta', 'invima', 'parafiscales', 'ideam', 'sisbén', \n",
    "                'colpensiones', 'icfes']\n",
    "for word in context_words:\n",
    "    spanish_dict.add(word)\n",
    "\n",
    "# Correct initiality some words\n",
    "text_corrected = []\n",
    "for x in text:\n",
    "    # Remove puntuation before use spellchecker\n",
    "    x = x.lower()\n",
    "    x = clean_text(x)\n",
    "    misspelled = list(spell.unknown(x.split(' ')))\n",
    "    for word in misspelled:\n",
    "        if word[-3:] == 'ion':            \n",
    "            x = x.replace(word, spell.correction(word))\n",
    "    text_corrected.append(x)\n",
    "\n",
    "len(text_corrected)"
   ]
  },
  {
   "cell_type": "code",
   "execution_count": 10,
   "metadata": {},
   "outputs": [
    {
     "name": "stdout",
     "output_type": "stream",
     "text": [
      "544\n"
     ]
    }
   ],
   "source": [
    "# Create word frequency dictionary\n",
    "known_list = []\n",
    "for x in text_corrected:\n",
    "    known = [word for word in x.split(' ') if spanish_dict.spell(word)]\n",
    "    known_list += known\n",
    "known_list = list(filter(lambda x: x != '', known_list))\n",
    "\n",
    "word_frequency = dict(Counter(known_list))\n",
    "# print(len(word_frequency)\n",
    "\n",
    "# Remove words with one or two characters and just one occurrency\n",
    "# words2remove = {key for key, freq in word_frequency.items() if ((freq == 1) & (len(key) < 3))} \n",
    "# for word in words2remove:\n",
    "#     print(word)\n",
    "#     word_frequency.pop(word)    \n",
    "\n",
    "#print(sorted(word_frequency.items(), key=lambda x: x[1], reverse=False))\n",
    "\n",
    "with open('dict/custom_dict.json', 'w') as fp:\n",
    "    json.dump(word_frequency, fp, sort_keys=True, indent=4)"
   ]
  },
  {
   "cell_type": "markdown",
   "metadata": {},
   "source": [
    "## Split concatenated words"
   ]
  },
  {
   "cell_type": "code",
   "execution_count": null,
   "metadata": {},
   "outputs": [],
   "source": [
    "f = open('dict/custom_dict.json')\n",
    " \n",
    "# returns JSON object as\n",
    "# a dictionary\n",
    "data = json.load(f)\n",
    "data = sorted(data.items(), key=lambda x: x[1], reverse=True)\n",
    "words = list(dict(data).keys()) \n",
    "np.savetxt('dict/my_lang.txt.gz', words, fmt='%s')"
   ]
  },
  {
   "cell_type": "code",
   "execution_count": 24,
   "metadata": {},
   "outputs": [
    {
     "data": {
      "text/plain": [
       "['por', 'los']"
      ]
     },
     "execution_count": 24,
     "metadata": {},
     "output_type": "execute_result"
    }
   ],
   "source": [
    "lm = wordninja.LanguageModel('dict/my_lang.txt.gz')\n",
    "lm.split('porlos')"
   ]
  },
  {
   "cell_type": "markdown",
   "metadata": {},
   "source": [
    "## Sample code to use the word corrector"
   ]
  },
  {
   "cell_type": "code",
   "execution_count": 11,
   "metadata": {},
   "outputs": [
    {
     "data": {
      "text/plain": [
       "'actualización'"
      ]
     },
     "execution_count": 11,
     "metadata": {},
     "output_type": "execute_result"
    }
   ],
   "source": [
    "\n",
    "spell = SpellChecker(language=None, case_sensitive=False, distance=2)\n",
    "spell.word_frequency.load_dictionary('dict/custom_dict.json') \n",
    "spell.correction('actualizacion')"
   ]
  },
  {
   "cell_type": "code",
   "execution_count": null,
   "metadata": {},
   "outputs": [],
   "source": []
  }
 ],
 "metadata": {
  "interpreter": {
   "hash": "ff78eccfa8cae69f6328771f4e2995a96eb3431e314bd3073fb9559b89d2db05"
  },
  "kernelspec": {
   "display_name": "Python 3.9.7 64-bit ('ml-env': conda)",
   "language": "python",
   "name": "python3"
  },
  "language_info": {
   "codemirror_mode": {
    "name": "ipython",
    "version": 3
   },
   "file_extension": ".py",
   "mimetype": "text/x-python",
   "name": "python",
   "nbconvert_exporter": "python",
   "pygments_lexer": "ipython3",
   "version": "3.9.7"
  },
  "orig_nbformat": 4
 },
 "nbformat": 4,
 "nbformat_minor": 2
}
