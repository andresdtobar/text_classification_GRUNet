{
 "cells": [
  {
   "cell_type": "markdown",
   "metadata": {},
   "source": [
    "# Load required libraries"
   ]
  },
  {
   "cell_type": "code",
   "execution_count": 1,
   "metadata": {},
   "outputs": [],
   "source": [
    "# data processing and statistics\n",
    "import pandas as pd\n",
    "import numpy as np\n",
    "import spacy\n",
    "from scipy.stats import randint, uniform\n",
    "from collections import Counter\n",
    "\n",
    "# useful functions\n",
    "from utils import *\n",
    "\n",
    "# baseline classificator\n",
    "from sklearn.linear_model import LogisticRegression\n",
    "\n",
    "# hyperparameters selection and evaluation metrics\n",
    "from sklearn.metrics import balanced_accuracy_score, f1_score, jaccard_score, roc_auc_score\n",
    "from sklearn.model_selection import RandomizedSearchCV, StratifiedKFold, train_test_split\n",
    "\n",
    "# lbrary for spellchecker model\n",
    "from spellchecker import SpellChecker\n",
    "import re\n",
    "\n",
    "# Keras for Recurrent Network model\n",
    "from keras.layers import Dense, Input, Lambda, Dropout, Activation, GRU, Bidirectional\n",
    "from keras.models import Model\n",
    "from keras.layers.embeddings import Embedding\n",
    "#from keras.preprocessing import sequence\n",
    "#from keras.initializers import glorot_uniform\n",
    "from keras.initializers import Constant\n",
    "from keras.utils.vis_utils import plot_model\n",
    "import keras\n",
    "\n",
    "import pyodbc\n",
    "\n",
    "np.random.seed(1)\n",
    "#!python -m spacy download es_core_news_md\n",
    "nlp = spacy.load('es_core_news_md')\n",
    "nlp.remove_pipe('lemmatizer')\n",
    "nlp.remove_pipe('ner')\n",
    "nlp.remove_pipe('attribute_ruler')\n",
    "\n",
    "n_classes = 2"
   ]
  },
  {
   "cell_type": "markdown",
   "metadata": {},
   "source": [
    "# Read and clean input data"
   ]
  },
  {
   "cell_type": "code",
   "execution_count": 2,
   "metadata": {},
   "outputs": [
    {
     "name": "stdout",
     "output_type": "stream",
     "text": [
      "6081\n"
     ]
    },
    {
     "data": {
      "text/plain": [
       "Counter({1: 5047, 0: 1034})"
      ]
     },
     "execution_count": 2,
     "metadata": {},
     "output_type": "execute_result"
    }
   ],
   "source": [
    "# connection parameters\n",
    "server = '' \n",
    "database = '' \n",
    "username = 'admin_usersql' \n",
    "password = 'admin_usersql'\n",
    "\n",
    "cnxn = pyodbc.connect('DRIVER={ODBC Driver 17 for SQL Server};SERVER='+server+';DATABASE='+database+';UID='+username+';PWD='+ password)\n",
    "#cursor = cnxn.cursor()\n",
    "\n",
    "#Sample select query\n",
    "query = \"SELECT * FROM dbo.EntrenamientoSECOP\"\n",
    "df = pd.read_sql(query,cnxn)\n",
    "\n",
    "# Erase rows with null values\n",
    "df = df.loc[~df['ObjetoProceso'].isnull()]\n",
    "\n",
    "# Erase rows where text length is less than 20\n",
    "df = df.loc[df['ObjetoProceso'].apply(len) > 20]\n",
    "\n",
    "# Separate label column and make lower case all text\n",
    "text = df['ObjetoProceso']\n",
    "#text = np.array([text.lower() for text in text])\n",
    "\n",
    "# Spell checker and in-context correction\n",
    "text_all_corrected = correct_words(text)\n",
    "print(len(text_all_corrected))\n",
    "\n",
    "y = df['Clasificacion'].astype(int)\n",
    "Counter(y)"
   ]
  },
  {
   "cell_type": "markdown",
   "metadata": {},
   "source": [
    "## -Bidirectional Recurrent Neural Net with GRU cell and secuetial word embeddings"
   ]
  },
  {
   "cell_type": "code",
   "execution_count": 3,
   "metadata": {},
   "outputs": [],
   "source": [
    "# Split dataset into train and test sets of documents\n",
    "text_train, text_test, y_train, y_test = train_test_split(text_all_corrected, y.values, test_size=.2, random_state=42)"
   ]
  },
  {
   "cell_type": "code",
   "execution_count": 4,
   "metadata": {},
   "outputs": [],
   "source": [
    "# \n",
    "maxLen = max([len(text.split(' ')) for text in text_train])\n",
    "tokens = {word for sentence in text_all_corrected for word in sentence.split(' ')} - {''}\n",
    "vocab = sorted(list(tokens))\n",
    "np.savetxt('dict/vocab.txt', vocab, fmt='%s', delimiter=',')"
   ]
  },
  {
   "cell_type": "code",
   "execution_count": null,
   "metadata": {},
   "outputs": [],
   "source": [
    "#np.savetxt('dict/vocab2_1.txt', vocab, fmt='%s', delimiter=',')"
   ]
  },
  {
   "cell_type": "code",
   "execution_count": 5,
   "metadata": {},
   "outputs": [],
   "source": [
    "# Generate the word embedding matrix\n",
    "num_tokens = len(vocab)\n",
    "embedding_dim = len(nlp('ola').vector)\n",
    "embedding_matrix = np.zeros((num_tokens, embedding_dim))\n",
    "for i, word in enumerate(vocab):\n",
    "    embedding_matrix[i] = nlp(word).vector"
   ]
  },
  {
   "cell_type": "code",
   "execution_count": 6,
   "metadata": {},
   "outputs": [],
   "source": [
    "X_train_indices = sentences_to_indices(text_train, vocab, maxLen)\n",
    "#y_train_oh = convert_to_one_hot(y_train, n_classes)\n",
    "\n",
    "X_test_indices = sentences_to_indices(text_test, vocab, maxLen)\n",
    "#y_test_oh = convert_to_one_hot(y_test, n_classes)"
   ]
  },
  {
   "cell_type": "code",
   "execution_count": 7,
   "metadata": {},
   "outputs": [],
   "source": [
    "classes = dict(Counter(y_train))\n",
    "pos = classes[1]\n",
    "neg = classes[0]\n",
    "# initial_bias = np.log([pos/neg])\n",
    "# initial_bias"
   ]
  },
  {
   "cell_type": "code",
   "execution_count": 8,
   "metadata": {},
   "outputs": [
    {
     "name": "stderr",
     "output_type": "stream",
     "text": [
      "2022-01-20 11:48:26.241043: I tensorflow/stream_executor/cuda/cuda_gpu_executor.cc:937] successful NUMA node read from SysFS had negative value (-1), but there must be at least one NUMA node, so returning NUMA node zero\n",
      "2022-01-20 11:48:26.241466: I tensorflow/stream_executor/cuda/cuda_gpu_executor.cc:937] successful NUMA node read from SysFS had negative value (-1), but there must be at least one NUMA node, so returning NUMA node zero\n",
      "2022-01-20 11:48:26.241742: I tensorflow/stream_executor/cuda/cuda_gpu_executor.cc:937] successful NUMA node read from SysFS had negative value (-1), but there must be at least one NUMA node, so returning NUMA node zero\n",
      "2022-01-20 11:48:26.242152: I tensorflow/core/platform/cpu_feature_guard.cc:142] This TensorFlow binary is optimized with oneAPI Deep Neural Network Library (oneDNN) to use the following CPU instructions in performance-critical operations:  AVX2 FMA\n",
      "To enable them in other operations, rebuild TensorFlow with the appropriate compiler flags.\n",
      "2022-01-20 11:48:26.242503: I tensorflow/stream_executor/cuda/cuda_gpu_executor.cc:937] successful NUMA node read from SysFS had negative value (-1), but there must be at least one NUMA node, so returning NUMA node zero\n",
      "2022-01-20 11:48:26.242812: I tensorflow/stream_executor/cuda/cuda_gpu_executor.cc:937] successful NUMA node read from SysFS had negative value (-1), but there must be at least one NUMA node, so returning NUMA node zero\n",
      "2022-01-20 11:48:26.243103: I tensorflow/stream_executor/cuda/cuda_gpu_executor.cc:937] successful NUMA node read from SysFS had negative value (-1), but there must be at least one NUMA node, so returning NUMA node zero\n",
      "2022-01-20 11:48:27.892537: I tensorflow/stream_executor/cuda/cuda_gpu_executor.cc:937] successful NUMA node read from SysFS had negative value (-1), but there must be at least one NUMA node, so returning NUMA node zero\n",
      "2022-01-20 11:48:27.892881: I tensorflow/stream_executor/cuda/cuda_gpu_executor.cc:937] successful NUMA node read from SysFS had negative value (-1), but there must be at least one NUMA node, so returning NUMA node zero\n",
      "2022-01-20 11:48:27.893141: I tensorflow/stream_executor/cuda/cuda_gpu_executor.cc:937] successful NUMA node read from SysFS had negative value (-1), but there must be at least one NUMA node, so returning NUMA node zero\n",
      "2022-01-20 11:48:27.893365: I tensorflow/core/common_runtime/gpu/gpu_device.cc:1510] Created device /job:localhost/replica:0/task:0/device:GPU:0 with 3671 MB memory:  -> device: 0, name: NVIDIA GeForce RTX 2060, pci bus id: 0000:01:00.0, compute capability: 7.5\n"
     ]
    },
    {
     "name": "stdout",
     "output_type": "stream",
     "text": [
      "Model: \"model\"\n",
      "_________________________________________________________________\n",
      "Layer (type)                 Output Shape              Param #   \n",
      "=================================================================\n",
      "input_1 (InputLayer)         [(None, 194)]             0         \n",
      "_________________________________________________________________\n",
      "embedding (Embedding)        (None, 194, 300)          1715100   \n",
      "_________________________________________________________________\n",
      "bidirectional (Bidirectional (None, 194, 256)          330240    \n",
      "_________________________________________________________________\n",
      "dropout (Dropout)            (None, 194, 256)          0         \n",
      "_________________________________________________________________\n",
      "bidirectional_1 (Bidirection (None, 256)               296448    \n",
      "_________________________________________________________________\n",
      "dropout_1 (Dropout)          (None, 256)               0         \n",
      "_________________________________________________________________\n",
      "dense (Dense)                (None, 1)                 257       \n",
      "=================================================================\n",
      "Total params: 2,342,045\n",
      "Trainable params: 626,945\n",
      "Non-trainable params: 1,715,100\n",
      "_________________________________________________________________\n"
     ]
    }
   ],
   "source": [
    "#maxLen = 194\n",
    "model = TextClassification(maxLen,embedding_matrix, n_classes, num_tokens, embedding_dim)\n",
    "model.summary()"
   ]
  },
  {
   "cell_type": "code",
   "execution_count": 9,
   "metadata": {},
   "outputs": [],
   "source": [
    "metrics = [\n",
    "    'accuracy', 'Recall', 'Precision',\n",
    "    keras.metrics.AUC(name='auc'),\n",
    "    keras.metrics.AUC(name='prc', curve='PR')\n",
    "      ]\n",
    "model.compile(loss='binary_crossentropy', optimizer='adam', metrics=metrics)"
   ]
  },
  {
   "cell_type": "code",
   "execution_count": 28,
   "metadata": {},
   "outputs": [],
   "source": [
    "# X_train[216] # texto cortado"
   ]
  },
  {
   "cell_type": "code",
   "execution_count": 10,
   "metadata": {},
   "outputs": [
    {
     "data": {
      "text/plain": [
       "{0: 2.9230769230769234, 1: 0.6031746031746031}"
      ]
     },
     "execution_count": 10,
     "metadata": {},
     "output_type": "execute_result"
    }
   ],
   "source": [
    "total = len(y_train)\n",
    "weight_for_0 = (1 / neg) * (total / 2.0)\n",
    "weight_for_1 = (1 / pos) * (total / 2.0)\n",
    "\n",
    "class_weight = {0: weight_for_0, 1: weight_for_1}\n",
    "class_weight"
   ]
  },
  {
   "cell_type": "code",
   "execution_count": 11,
   "metadata": {},
   "outputs": [
    {
     "name": "stderr",
     "output_type": "stream",
     "text": [
      "2022-01-20 11:56:53.671180: I tensorflow/compiler/mlir/mlir_graph_optimization_pass.cc:185] None of the MLIR Optimization Passes are enabled (registered 2)\n"
     ]
    },
    {
     "name": "stdout",
     "output_type": "stream",
     "text": [
      "Epoch 1/100\n",
      "35/35 [==============================] - 39s 874ms/step - loss: 0.2614 - accuracy: 0.8881 - recall: 0.8899 - precision: 0.9725 - auc: 0.9588 - prc: 0.9897 - val_loss: 0.1641 - val_accuracy: 0.9405 - val_recall: 0.9315 - val_precision: 0.9974 - val_auc: 0.9939 - val_prc: 0.9987\n",
      "Epoch 2/100\n",
      "35/35 [==============================] - 29s 843ms/step - loss: 0.0786 - accuracy: 0.9751 - recall: 0.9757 - precision: 0.9941 - auc: 0.9955 - prc: 0.9990 - val_loss: 0.0413 - val_accuracy: 0.9856 - val_recall: 0.9878 - val_precision: 0.9951 - val_auc: 0.9977 - val_prc: 0.9995\n",
      "Epoch 3/100\n",
      "35/35 [==============================] - 30s 856ms/step - loss: 0.0395 - accuracy: 0.9888 - recall: 0.9887 - precision: 0.9978 - auc: 0.9984 - prc: 0.9997 - val_loss: 0.0318 - val_accuracy: 0.9897 - val_recall: 0.9951 - val_precision: 0.9927 - val_auc: 0.9982 - val_prc: 0.9996\n",
      "Epoch 4/100\n",
      "35/35 [==============================] - 32s 915ms/step - loss: 0.0244 - accuracy: 0.9936 - recall: 0.9937 - precision: 0.9986 - auc: 0.9990 - prc: 0.9998 - val_loss: 0.0266 - val_accuracy: 0.9897 - val_recall: 0.9902 - val_precision: 0.9975 - val_auc: 0.9987 - val_prc: 0.9997\n",
      "Epoch 5/100\n",
      "35/35 [==============================] - 32s 923ms/step - loss: 0.0138 - accuracy: 0.9963 - recall: 0.9959 - precision: 0.9997 - auc: 0.9994 - prc: 0.9999 - val_loss: 0.0183 - val_accuracy: 0.9938 - val_recall: 0.9976 - val_precision: 0.9951 - val_auc: 0.9994 - val_prc: 0.9999\n",
      "Epoch 6/100\n",
      "35/35 [==============================] - 31s 891ms/step - loss: 0.0104 - accuracy: 0.9970 - recall: 0.9967 - precision: 0.9997 - auc: 0.9995 - prc: 0.9999 - val_loss: 0.0179 - val_accuracy: 0.9897 - val_recall: 0.9902 - val_precision: 0.9975 - val_auc: 0.9996 - val_prc: 0.9999\n",
      "Epoch 7/100\n",
      "35/35 [==============================] - 30s 872ms/step - loss: 0.0077 - accuracy: 0.9977 - recall: 0.9972 - precision: 1.0000 - auc: 0.9996 - prc: 0.9999 - val_loss: 0.0193 - val_accuracy: 0.9979 - val_recall: 1.0000 - val_precision: 0.9976 - val_auc: 0.9935 - val_prc: 0.9975\n",
      "Epoch 8/100\n",
      "35/35 [==============================] - 32s 912ms/step - loss: 0.0063 - accuracy: 0.9984 - recall: 0.9983 - precision: 0.9997 - auc: 0.9999 - prc: 1.0000 - val_loss: 0.0160 - val_accuracy: 0.9959 - val_recall: 0.9976 - val_precision: 0.9976 - val_auc: 0.9995 - val_prc: 0.9999\n",
      "Epoch 9/100\n",
      "35/35 [==============================] - 31s 889ms/step - loss: 0.0095 - accuracy: 0.9968 - recall: 0.9964 - precision: 0.9997 - auc: 0.9997 - prc: 0.9999 - val_loss: 0.0259 - val_accuracy: 0.9938 - val_recall: 1.0000 - val_precision: 0.9927 - val_auc: 0.9934 - val_prc: 0.9975\n",
      "Epoch 10/100\n",
      "35/35 [==============================] - 32s 914ms/step - loss: 0.0070 - accuracy: 0.9982 - recall: 0.9978 - precision: 1.0000 - auc: 0.9995 - prc: 0.9999 - val_loss: 0.0086 - val_accuracy: 0.9959 - val_recall: 1.0000 - val_precision: 0.9951 - val_auc: 0.9999 - val_prc: 1.0000\n",
      "Epoch 11/100\n",
      "35/35 [==============================] - 30s 845ms/step - loss: 0.0042 - accuracy: 0.9986 - recall: 0.9983 - precision: 1.0000 - auc: 0.9997 - prc: 0.9999 - val_loss: 0.0173 - val_accuracy: 0.9959 - val_recall: 1.0000 - val_precision: 0.9951 - val_auc: 0.9999 - val_prc: 1.0000\n",
      "Epoch 12/100\n",
      "35/35 [==============================] - 30s 851ms/step - loss: 0.0046 - accuracy: 0.9984 - recall: 0.9983 - precision: 0.9997 - auc: 1.0000 - prc: 1.0000 - val_loss: 0.0147 - val_accuracy: 0.9959 - val_recall: 1.0000 - val_precision: 0.9951 - val_auc: 0.9999 - val_prc: 1.0000\n"
     ]
    },
    {
     "data": {
      "text/plain": [
       "<keras.callbacks.History at 0x7fcfe87fb1c0>"
      ]
     },
     "execution_count": 11,
     "metadata": {},
     "output_type": "execute_result"
    }
   ],
   "source": [
    "#Train model\n",
    "early_stop = keras.callbacks.EarlyStopping(\n",
    "    monitor='val_recall', \n",
    "    patience=5,\n",
    "    mode='max',\n",
    "    restore_best_weights=True\n",
    "    )\n",
    "\n",
    "# Split dataset into train and test sets of documents\n",
    "X_train_indices, X_val_indices, y_train, y_val = train_test_split(X_train_indices, y_train, test_size=.1, random_state=42)\n",
    "\n",
    "model.fit(X_train_indices, y_train, batch_size=128, epochs=100, validation_data = (X_val_indices, y_val), \n",
    "    callbacks = [early_stop], class_weight=class_weight)\n",
    "\n",
    "# model.fit(X_train_indices, y_train, batch_size=128, epochs=100, validation_data = (X_val_indices, y_val), \n",
    "#     callbacks = [early_stop])"
   ]
  },
  {
   "cell_type": "code",
   "execution_count": 12,
   "metadata": {},
   "outputs": [],
   "source": [
    "# model.save('models/bigru_model_v2.h5')"
   ]
  },
  {
   "cell_type": "code",
   "execution_count": null,
   "metadata": {},
   "outputs": [],
   "source": [
    "# model = keras.models.load_model('models/bigru_model_v3.h5')\n",
    "# model.summary()"
   ]
  },
  {
   "cell_type": "code",
   "execution_count": 111,
   "metadata": {},
   "outputs": [],
   "source": [
    "#plot_model(model, to_file='model_plot.png', show_shapes=True, show_layer_names=True) "
   ]
  },
  {
   "cell_type": "code",
   "execution_count": 17,
   "metadata": {},
   "outputs": [
    {
     "data": {
      "text/plain": [
       "6052"
      ]
     },
     "execution_count": 17,
     "metadata": {},
     "output_type": "execute_result"
    }
   ],
   "source": [
    "index_to_word = dict()\n",
    "for index, word in enumerate(vocab):\n",
    "    index_to_word[index] = word \n",
    "\n",
    "len(index_to_word)"
   ]
  },
  {
   "cell_type": "code",
   "execution_count": 15,
   "metadata": {},
   "outputs": [
    {
     "name": "stdout",
     "output_type": "stream",
     "text": [
      "39/39 [==============================] - 5s 126ms/step - loss: 0.0567 - accuracy: 0.9852 - recall: 0.9970 - precision: 0.9854 - auc: 0.9913 - prc: 0.9968\n",
      "Test accuracy =  0.9852095246315002\n",
      "Test auc-roc =  0.991330623626709\n",
      "Test auc-prc =  0.9967960715293884\n",
      "Test true possitive rate =  0.9970443248748779\n",
      "Test Precision =  0.9853943586349487\n"
     ]
    }
   ],
   "source": [
    "loss, acc, tpr, ppv, auc, prc  = model.evaluate(X_test_indices, y_test)\n",
    "# loss, acc, auc,  = model.evaluate(X_test_indices, y_test_oh)\n",
    "print(\"Test accuracy = \", acc)\n",
    "print(\"Test auc-roc = \", auc)\n",
    "print(\"Test auc-prc = \", prc)\n",
    "print(\"Test true possitive rate = \",tpr)\n",
    "print(\"Test Precision = \",ppv)\n",
    "\n",
    "from sklearn.metrics import balanced_accuracy_score, f1_score, jaccard_score\n",
    "\n",
    "uncertainty_model = False\n",
    "if uncertainty_model:\n",
    "    rg = [.3, .7]\n",
    "    h_test = -1*np.ones((len(y_test),1))\n",
    "    pos = model.predict(X_test_indices) >= rg[1]\n",
    "    h_test[pos] = 1\n",
    "    neg = model.predict(X_test_indices) <= rg[0]\n",
    "    h_test[neg] = 0\n",
    "    print(f\"in-confiden-interval labeled samples: {(len(h_test[pos]) + len(h_test[neg]))/len(y_test)}\")\n",
    "    print(f\"Not labeled samples: {-len(h_test[pos]) - len(h_test[neg]) + len(y_test)}\")\n",
    "\n",
    "    no_label_idx = np.where(h_test[:,0] == -1)[0]\n",
    "    for idx in no_label_idx:\n",
    "        x = np.array(X_test_indices[idx,:])[np.newaxis, :, np.newaxis]\n",
    "        est = model.predict(x)\n",
    "        #pred = np.argmax(est)\n",
    "        pred = int(est[0,0] > .5)\n",
    "        sentence = ''\n",
    "        word_idx_old = -1\n",
    "        for word_idx in x[0,:,0]:\n",
    "            if word_idx == word_idx_old:\n",
    "                continue\n",
    "            word_idx_old = word_idx\n",
    "            sentence += index_to_word[word_idx] + ' '\n",
    "        print(sentence[:-2])\n",
    "        print('Expected label:'+ str(y_test[idx]) + ' prediction: '+ str(pred) + ' ' + str(est[0,0]))\n",
    "        \n",
    "    y_test = y_test[:,np.newaxis]\n",
    "    y_test = y_test[pos + neg]\n",
    "    h_test = h_test[pos + neg]\n",
    "else:\n",
    "    th = .5\n",
    "    h_test = (model.predict(X_test_indices) > th).astype(int)\n",
    "    # h_test = np.argmax(model.predict(X_test_indices), axis=1)\n"
   ]
  },
  {
   "cell_type": "code",
   "execution_count": 16,
   "metadata": {},
   "outputs": [
    {
     "name": "stdout",
     "output_type": "stream",
     "text": [
      "Balanced test acc: 0.9613934546163976\n",
      "Test f1-score: 0.9852095316351684\n",
      "Test jaccard-score: 0.9825242718446602\n"
     ]
    }
   ],
   "source": [
    "print(f'Balanced test acc: {balanced_accuracy_score(y_test, h_test)}')\n",
    "print(f'Test f1-score: {f1_score(y_test, h_test, average = \"micro\" )}')\n",
    "print(f'Test jaccard-score: {jaccard_score(y_test, h_test)}')"
   ]
  },
  {
   "cell_type": "code",
   "execution_count": null,
   "metadata": {},
   "outputs": [],
   "source": [
    "\n",
    "for i, x in enumerate(X_test_indices):\n",
    "    x = np.array(x)[np.newaxis, :, np.newaxis]\n",
    "    est = model.predict(x)\n",
    "    #pred = np.argmax(est)\n",
    "    pred = int(est[0,0] > .5)\n",
    "    if pred != y_test[i]:\n",
    "        sentence = ''\n",
    "        idx_old = -1\n",
    "        for idx in x[0,:,0]:\n",
    "            if idx == idx_old:\n",
    "                continue\n",
    "            idx_old = idx\n",
    "            sentence += index_to_word[idx] + ' '\n",
    "        print(sentence[:-2])\n",
    "        print('Expected label:'+ str(y_test[i]) + ' prediction: '+ str(pred) + ' ' + str(est[0,0]))"
   ]
  },
  {
   "cell_type": "code",
   "execution_count": 17,
   "metadata": {},
   "outputs": [
    {
     "name": "stdout",
     "output_type": "stream",
     "text": [
      "Matriz de confusión para el conjunto de testeo\n"
     ]
    },
    {
     "data": {
      "image/png": "[encoded data removed]",
      "text/plain": [
       "<Figure size 360x360 with 1 Axes>"
      ]
     },
     "metadata": {
      "needs_background": "light"
     },
     "output_type": "display_data"
    }
   ],
   "source": [
    "from sklearn.metrics import confusion_matrix\n",
    "\n",
    "class_names = np.array(['Rejected', 'Acepted'])\n",
    "\n",
    "print(\"Matriz de confusión para el conjunto de testeo\")\n",
    "# Compute Testing confusion matrix\n",
    "cnf_matrix = confusion_matrix(h_test, y_test)\n",
    "#np.set_printoptions(precision=2)\n",
    "# Plot matriz de confusion sin normalizar\n",
    "plot_confusion_matrix(cnf_matrix, classes=class_names, title='Matriz de confusion')"
   ]
  },
  {
   "cell_type": "code",
   "execution_count": null,
   "metadata": {},
   "outputs": [],
   "source": []
  }
 ],
 "metadata": {
  "interpreter": {
   "hash": "ff78eccfa8cae69f6328771f4e2995a96eb3431e314bd3073fb9559b89d2db05"
  },
  "kernelspec": {
   "display_name": "Python 3.9.7 64-bit ('ml-env': conda)",
   "language": "python",
   "name": "python3"
  },
  "language_info": {
   "codemirror_mode": {
    "name": "ipython",
    "version": 3
   },
   "file_extension": ".py",
   "mimetype": "text/x-python",
   "name": "python",
   "nbconvert_exporter": "python",
   "pygments_lexer": "ipython3",
   "version": "3.9.7"
  },
  "orig_nbformat": 4
 },
 "nbformat": 4,
 "nbformat_minor": 2
}
